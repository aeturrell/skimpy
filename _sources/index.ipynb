{
 "cells": [
  {
   "cell_type": "markdown",
   "metadata": {},
   "source": [
    "# Skimpy\n",
    "\n",
    "A light weight tool for creating summary statistics from dataframes."
   ]
  },
  {
   "cell_type": "markdown",
   "metadata": {},
   "source": [
    "[![PyPI](https://img.shields.io/pypi/v/skimpy.svg)](https://pypi.org/project/skimpy/)\n",
    "[![Status](https://img.shields.io/pypi/status/skimpy.svg)](https://pypi.org/project/skimpy/)\n",
    "[![Python Version](https://img.shields.io/pypi/pyversions/skimpy)](https://pypi.org/project/skimpy)\n",
    "[![License](https://img.shields.io/pypi/l/skimpy)](https://opensource.org/licenses/MIT)\n",
    "[![Read the documentation at https://aeturrell.github.io/skimpy/](https://img.shields.io/badge/docs-passing-brightgreen)](https://aeturrell.github.io/skimpy/)\n",
    "[![Tests](https://github.com/aeturrell/skimpy/workflows/Tests/badge.svg)](https://github.com/aeturrell/skimpy/actions?workflow=Tests)\n",
    "[![Codecov](https://codecov.io/gh/aeturrell/skimpy/branch/main/graph/badge.svg)](https://codecov.io/gh/aeturrell/skimpy)\n",
    "[![Downloads](https://static.pepy.tech/badge/skimpy)](https://pepy.tech/project/skimpy)\n",
    "[![pre-commit](https://img.shields.io/badge/pre--commit-enabled-brightgreen?logo=pre-commit&logoColor=white)](https://github.com/pre-commit/pre-commit)\n",
    "[![Black](https://img.shields.io/badge/code%20style-black-000000.svg)](https://github.com/psf/black)\n",
    "[![Google Colab](https://colab.research.google.com/assets/colab-badge.svg)](https://colab.research.google.com/gist/aeturrell/7bf183c559dc1d15ab7e7aaac39ea0ed/skimpy_demo.ipynb)\n",
    "\n",
    "![Linux](https://img.shields.io/badge/Linux-FCC624?style=for-the-badge&logo=linux&logoColor=black)\n",
    "![macOS](https://img.shields.io/badge/mac%20os-000000?style=for-the-badge&logo=macos&logoColor=F0F0F0)\n",
    "![Windows](https://img.shields.io/badge/Windows-0078D6?style=for-the-badge&logo=windows&logoColor=white)\n",
    "\n",
    "[![Soure](https://img.shields.io/badge/source%20code-github-lightgrey?style=for-the-badge)](https://github.com/aeturrell/skimpy)"
   ]
  },
  {
   "cell_type": "markdown",
   "metadata": {},
   "source": [
    "**skimpy** is a light weight tool that provides\n",
    "summary statistics about variables in data frames within the console or your interactive Python window.\n",
    "Think of it as a super-charged version of `df.describe()`.\n",
    "\n",
    "## Quickstart\n",
    "\n",
    "*skim* a dataframe and produce summary statistics within the console\n",
    "using:\n",
    "\n",
    "```python\n",
    "from skimpy import skim\n",
    "\n",
    "skim(df)\n",
    "```\n",
    "\n",
    "where `df` is a dataframe.\n",
    "\n",
    "If you need to a dataset to try *skimpy* out on, you can use the\n",
    "built-in test dataframe:"
   ]
  },
  {
   "cell_type": "code",
   "execution_count": null,
   "metadata": {},
   "outputs": [],
   "source": [
    "from skimpy import skim, generate_test_data\n",
    "\n",
    "df = generate_test_data()\n",
    "skim(df)"
   ]
  },
  {
   "cell_type": "markdown",
   "metadata": {},
   "source": [
    "It is recommended that you set your datatypes before using *skimpy* (for example converting any text columns to pandas string datatype), as this will produce richer statistical summaries. However, the *skim* function will try and guess what the datatypes of your columns are."
   ]
  },
  {
   "cell_type": "markdown",
   "metadata": {},
   "source": [
    "**skimpy** also comes with a `clean_columns` function as a convenience. This slugifies column names. For example,\n"
   ]
  },
  {
   "cell_type": "code",
   "execution_count": null,
   "metadata": {},
   "outputs": [],
   "source": [
    "import pandas as pd\n",
    "from rich import print\n",
    "from skimpy import clean_columns\n",
    "\n",
    "columns = [\n",
    "    \"bs lncs;n edbn \",\n",
    "    \"Nín hǎo. Wǒ shì zhōng guó rén\",\n",
    "    \"___This is a test___\",\n",
    "    \"ÜBER Über German Umlaut\",\n",
    "]\n",
    "messy_df = pd.DataFrame(columns=columns, index=[0], data=[range(len(columns))])\n",
    "print(\"Column names:\")\n",
    "print(list(messy_df.columns))"
   ]
  },
  {
   "cell_type": "markdown",
   "metadata": {},
   "source": [
    "Now let's clean these—by default what we get back is in *snake case*:"
   ]
  },
  {
   "cell_type": "code",
   "execution_count": null,
   "metadata": {},
   "outputs": [],
   "source": [
    "clean_df = clean_columns(messy_df)\n",
    "print(list(clean_df.columns))"
   ]
  },
  {
   "cell_type": "markdown",
   "metadata": {},
   "source": [
    "Other naming conventions are available, for example *camel case*:"
   ]
  },
  {
   "cell_type": "code",
   "execution_count": null,
   "metadata": {},
   "outputs": [],
   "source": [
    "clean_df = clean_columns(messy_df, case=\"camel\")\n",
    "print(list(clean_df.columns))"
   ]
  },
  {
   "cell_type": "markdown",
   "metadata": {},
   "source": [
    "## Requirements\n",
    "\n",
    "You can find a full list of requirements in the [pyproject.toml](https://github.com/aeturrell/skimpy/blob/main/pyproject.toml) file. The\n",
    "main requirements are:"
   ]
  },
  {
   "cell_type": "code",
   "execution_count": null,
   "metadata": {
    "tags": [
     "remove-input"
    ]
   },
   "outputs": [],
   "source": [
    "import toml\n",
    "from pathlib import Path\n",
    "\n",
    "config = toml.load(Path(\"../pyproject.toml\"))\n",
    "dict_main_deps = config[\"tool\"][\"poetry\"][\"dependencies\"]\n",
    "for key, value in dict_main_deps.items():\n",
    "    print(f\"{key} {value}\")"
   ]
  },
  {
   "cell_type": "markdown",
   "metadata": {},
   "source": [
    "You can try this package out right now in your browser using this\n",
    "[Google Colab notebook](https://colab.research.google.com/gist/aeturrell/7bf183c559dc1d15ab7e7aaac39ea0ed/skimpy_demo.ipynb)\n",
    "(requires a Google account). Note that the Google Colab notebook uses the latest package released on PyPI (rather than the development release)."
   ]
  },
  {
   "cell_type": "markdown",
   "metadata": {},
   "source": [
    "## Installation\n",
    "\n",
    "You can install the latest release of *skimpy* via\n",
    "[pip](https://pip.pypa.io/) from [PyPI](https://pypi.org/):\n",
    "\n",
    "```bash\n",
    "$ pip install skimpy\n",
    "```\n",
    "\n",
    "To install the development version from git, use:\n",
    "\n",
    "```bash\n",
    "$ pip install git+https://github.com/aeturrell/skimpy.git\n",
    "```\n",
    "\n",
    "For development, see {ref}`contributing`."
   ]
  },
  {
   "cell_type": "markdown",
   "metadata": {},
   "source": [
    "## Usage\n",
    "\n",
    "This package is mostly designed to be used within an interactive console\n",
    "session or Jupyter notebook\n",
    "\n",
    "```python\n",
    "from skimpy import skim\n",
    "\n",
    "skim(df)\n",
    "```\n",
    "\n",
    "However, you can also use it on the command line:\n",
    "\n",
    "```bash\n",
    "$ skimpy file.csv\n",
    "```"
   ]
  },
  {
   "cell_type": "markdown",
   "metadata": {},
   "source": [
    "## Features\n",
    "\n",
    "-   Support for boolean, numeric, datetime, string, and category\n",
    "    datatypes\n",
    "-   Command line interface in addition to interactive console\n",
    "    functionality\n",
    "-   Light weight, with results printed to terminal using the\n",
    "    [rich](https://github.com/willmcgugan/rich) package.\n",
    "-   Rounds numerical output to 2 significant figures"
   ]
  },
  {
   "cell_type": "markdown",
   "metadata": {},
   "source": [
    "## Citing Skimpy\n",
    "\n",
    "\n",
    "```text\n",
    "@misc{aeturrell_2022_skimpy,\n",
    "  author       = {Arthur Turrell},\n",
    "  title        = {Skimpy: v0.0.7},\n",
    "  month        = oct,\n",
    "  year         = 2022,\n",
    "  version      = {0.0.7},\n",
    "  url          = {https://github.com/aeturrell/skimpy}\n",
    "}\n",
    "```\n",
    "\n",
    "Using **Skimpy** in your paper? Let us know by raising an issue beginning with \"citation\" and we'll add it to this page."
   ]
  },
  {
   "cell_type": "markdown",
   "metadata": {},
   "source": [
    "## Contributing\n",
    "\n",
    "Contributions are very welcome. To learn more, see the page on {ref}`contributing`.\n",
    "\n",
    "Note that you will need [Make](https://www.gnu.org/software/make/) installed to build the docs automatically\n",
    "\n",
    "## License\n",
    "\n",
    "Distributed under the terms of the [MIT license](https://opensource.org/licenses/MIT), *skimpy* is free and open source software.\n",
    "\n",
    "## Issues\n",
    "\n",
    "If you encounter any problems, please [file an issue](https://github.com/aeturrell/skimpy/issues) along with a detailed description.\n",
    "\n",
    "## Credits\n",
    "\n",
    "This project was generated from [\\@cjolowicz](https://github.com/cjolowicz)\\'s [Hypermodern Python Cookiecutter](https://github.com/cjolowicz/cookiecutter-hypermodern-python) template.\n",
    "\n",
    "skimpy was inspired by the R package [skimr](https://docs.ropensci.org/skimr/articles/skimr.html) and by exploratory Python packages including [pandas_profiling](https://pandas-profiling.github.io/pandas-profiling) and [dataprep](https://dataprep.ai/), from which the `clean_columns` function comes.\n",
    "\n",
    "The package is built with [poetry](https://python-poetry.org/), while the documentation is built with [Jupyter Book](https://jupyterbook.org). Tests are run with [nox](https://nox.thea.codes/en/stable/)."
   ]
  }
 ],
 "metadata": {
  "kernelspec": {
   "display_name": "Python 3.8.8 ('.venv': poetry)",
   "language": "python",
   "name": "python3"
  },
  "language_info": {
   "codemirror_mode": {
    "name": "ipython",
    "version": 3
   },
   "file_extension": ".py",
   "mimetype": "text/x-python",
   "name": "python",
   "nbconvert_exporter": "python",
   "pygments_lexer": "ipython3",
   "version": "3.8.8"
  },
  "vscode": {
   "interpreter": {
    "hash": "40632773287a790210327f0a4164f429b4430d796dff9694a1110ee4b5468ac6"
   }
  }
 },
 "nbformat": 4,
 "nbformat_minor": 4
}
