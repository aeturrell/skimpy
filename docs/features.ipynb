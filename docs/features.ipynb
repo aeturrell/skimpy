{
 "cells": [
  {
   "cell_type": "markdown",
   "metadata": {},
   "source": [
    "# Features\n",
    "\n",
    "**Skimpy** provides:\n",
    "\n",
    "- a way to create summary statistics of **pandas** or **Polars** dataframes, using the `skim()` function, and print them to your console via the [rich](https://github.com/willmcgugan/rich) package\n",
    "- support for summarising boolean, numeric, datetime, timedelta, string, and category datatypes\n",
    "- a command line interface to `skim` csv files\n",
    "- intelligent rounding of numerical values to 4 significant figures\n",
    "- a way to export the visual summary statistics to lossless formats namely SVG or HTML\n",
    "- a way to further work with the summary statistics, by returning them as a dictionary\n",
    "- a way to clean up messy column names in both **pandas** and **Polars** dataframes\n",
    "\n",
    "When using **skimpy**, please be aware that *numerical columns are rounded to 4 significant figures*. You should also be aware that *any timezone-aware datetimes are converted into their naive equivalents*.\n",
    "\n",
    "You can find a full guide to the API on the [reference pages](reference/index.qmd)."
   ]
  },
  {
   "cell_type": "markdown",
   "metadata": {},
   "source": [
    "## Skim a dataframe and return the statistics\n",
    "\n",
    "To use `skim()` in its default mode, see the quickstart on [the homepage](index.ipynb).\n",
    "\n",
    "If you want to export your results to a dictionary within Python, rather than printing them to console, use the `skim_get_data()` function instead. Let's see an example:"
   ]
  },
  {
   "cell_type": "code",
   "execution_count": null,
   "metadata": {},
   "outputs": [],
   "source": [
    "import pandas as pd\n",
    "from rich import print\n",
    "from skimpy import generate_test_data, skim_get_data\n",
    "\n",
    "df = generate_test_data()\n",
    "\n",
    "summary = skim_get_data(df)"
   ]
  },
  {
   "cell_type": "markdown",
   "metadata": {},
   "source": [
    "And the dictionary has contents as follows:"
   ]
  },
  {
   "cell_type": "code",
   "execution_count": null,
   "metadata": {},
   "outputs": [],
   "source": [
    "print(summary)"
   ]
  },
  {
   "cell_type": "markdown",
   "metadata": {},
   "source": [
    "## Clean up messy dataframe column names\n",
    "\n",
    "**skimpy** also comes with a `clean_columns` function as a convenience (with thanks to the [**dataprep**](https://dataprep.ai/) package). This slugifies column names in **pandas** dataframes. For example,"
   ]
  },
  {
   "cell_type": "code",
   "execution_count": null,
   "metadata": {},
   "outputs": [],
   "source": [
    "from skimpy import clean_columns\n",
    "\n",
    "columns = [\n",
    "    \"bs lncs;n edbn \",\n",
    "    \"Nín hǎo. Wǒ shì zhōng guó rén\",\n",
    "    \"___This is a test___\",\n",
    "    \"ÜBER Über German Umlaut\",\n",
    "]\n",
    "messy_df = pd.DataFrame(columns=columns, index=[0], data=[range(len(columns))])\n",
    "print(\"Column names:\")\n",
    "print(list(messy_df.columns))"
   ]
  },
  {
   "cell_type": "markdown",
   "metadata": {},
   "source": [
    "Now let's clean these—by default what we get back is in *snake case*:"
   ]
  },
  {
   "cell_type": "code",
   "execution_count": null,
   "metadata": {},
   "outputs": [],
   "source": [
    "clean_df = clean_columns(messy_df)\n",
    "print(list(clean_df.columns))"
   ]
  },
  {
   "cell_type": "markdown",
   "metadata": {},
   "source": [
    "Other naming conventions are available, for example *camel case*:"
   ]
  },
  {
   "cell_type": "code",
   "execution_count": null,
   "metadata": {},
   "outputs": [],
   "source": [
    "clean_df = clean_columns(messy_df, case=\"camel\")\n",
    "print(list(clean_df.columns))"
   ]
  },
  {
   "cell_type": "markdown",
   "metadata": {},
   "source": [
    "## Export the visual summary table to SVG\n",
    "\n",
    "To export the figure containing the table of summary statistics, use the `skim_get_figure()` function. This will save an SVG file to the given (relative) path that you pass with the `save_path` argument."
   ]
  },
  {
   "cell_type": "markdown",
   "metadata": {},
   "source": [
    "## Run skim on a csv file from the command line\n",
    "\n",
    "Although it's usually better to set datatypes before running **skimpy** on data, we provide a command line utility that can work with CSV files as a convenience.\n",
    "\n",
    "You can run this with the below—but note that the command is `skimpy`, the name of the package, rather than `skim`, as in the Python function."
   ]
  },
  {
   "cell_type": "markdown",
   "metadata": {},
   "source": [
    "\n",
    "```bash\n",
    "$ skimpy file.csv\n",
    "```"
   ]
  }
 ],
 "metadata": {
  "kernelspec": {
   "display_name": ".venv",
   "language": "python",
   "name": "python3"
  },
  "language_info": {
   "codemirror_mode": {
    "name": "ipython",
    "version": 3
   },
   "file_extension": ".py",
   "mimetype": "text/x-python",
   "name": "python",
   "nbconvert_exporter": "python",
   "pygments_lexer": "ipython3",
   "version": "3.10.12"
  }
 },
 "nbformat": 4,
 "nbformat_minor": 4
}
