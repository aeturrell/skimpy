{
 "cells": [
  {
   "cell_type": "markdown",
   "metadata": {},
   "source": [
    "# Features\n",
    "\n",
    "Skimpy provides:\n",
    "\n",
    "- a way to create summary statistics of **pandas** or **Polars** dataframes and print them to your console via the [rich](https://github.com/willmcgugan/rich) package\n",
    "- support for summarising boolean, numeric, datetime, string, and category datatypes\n",
    "- a command line interface to `skim` csv files\n",
    "- intelligent rounding of numerical values to 2 significant figures\n",
    "- a way to export the visual summary statistics to lossless format (SVG)\n",
    "- a way to further work with the summary statistics, by returning them as a dictionary\n",
    "- a way to clean up messy column names\n",
    "\n",
    "You can find a full guide to the API on the [reference pages](reference/index.qmd)."
   ]
  },
  {
   "cell_type": "markdown",
   "metadata": {},
   "source": [
    "## Skim a dataframe and return the statistics\n",
    "\n",
    "If you want to export your results to a dictionary, just pass `return_data=True` to the `skim` function and make sure there's a left-hand side variable to copy the dictionary into. Of course, you can use this returned data in any further application as you need!\n"
   ]
  },
  {
   "cell_type": "code",
   "execution_count": null,
   "metadata": {},
   "outputs": [],
   "source": [
    "from skimpy import skim\n",
    "from skimpy import generate_test_data\n",
    "from rich import print\n",
    "import pandas as pd\n",
    "\n",
    "df = generate_test_data()\n",
    "\n",
    "summary = skim(df, return_data=True)"
   ]
  },
  {
   "cell_type": "markdown",
   "metadata": {},
   "source": [
    "And the dictionary has contents as follows:"
   ]
  },
  {
   "cell_type": "code",
   "execution_count": null,
   "metadata": {},
   "outputs": [],
   "source": [
    "print(summary)"
   ]
  },
  {
   "cell_type": "markdown",
   "metadata": {},
   "source": [
    "## Clean up messy dataframe column names\n",
    "\n",
    "**skimpy** also comes with a `clean_columns` function as a convenience (with thanks to the [**dataprep**](https://dataprep.ai/) package). This slugifies column names in **pandas** dataframes. For example,"
   ]
  },
  {
   "cell_type": "code",
   "execution_count": null,
   "metadata": {},
   "outputs": [],
   "source": [
    "from skimpy import clean_columns\n",
    "\n",
    "columns = [\n",
    "    \"bs lncs;n edbn \",\n",
    "    \"Nín hǎo. Wǒ shì zhōng guó rén\",\n",
    "    \"___This is a test___\",\n",
    "    \"ÜBER Über German Umlaut\",\n",
    "]\n",
    "messy_df = pd.DataFrame(columns=columns, index=[0], data=[range(len(columns))])\n",
    "print(\"Column names:\")\n",
    "print(list(messy_df.columns))"
   ]
  },
  {
   "cell_type": "markdown",
   "metadata": {},
   "source": [
    "Now let's clean these—by default what we get back is in *snake case*:"
   ]
  },
  {
   "cell_type": "code",
   "execution_count": null,
   "metadata": {},
   "outputs": [],
   "source": [
    "clean_df = clean_columns(messy_df)\n",
    "print(list(clean_df.columns))"
   ]
  },
  {
   "cell_type": "markdown",
   "metadata": {},
   "source": [
    "Other naming conventions are available, for example *camel case*:"
   ]
  },
  {
   "cell_type": "code",
   "execution_count": null,
   "metadata": {},
   "outputs": [],
   "source": [
    "clean_df = clean_columns(messy_df, case=\"camel\")\n",
    "print(list(clean_df.columns))"
   ]
  },
  {
   "cell_type": "markdown",
   "metadata": {},
   "source": [
    "## Export the visual summary table to SVG\n",
    "\n",
    "To export the figure containing the table of summary statistics, pass an argument to `skim`'s `record_results_path=` keyword argument. This will save an SVG file to the given (relative) path."
   ]
  },
  {
   "cell_type": "markdown",
   "metadata": {},
   "source": [
    "## Run skim on a csv file from the command line\n",
    "\n",
    "Although it's usually better to set datatypes before running **skimpy** on data, we provide a command line utility that can work with CSV files as a convenience.\n",
    "\n",
    "You can run this with the below—but note that the command is `skimpy`, the name of the package, rather than `skim`, as in the Python function."
   ]
  },
  {
   "cell_type": "markdown",
   "metadata": {},
   "source": [
    "\n",
    "```bash\n",
    "$ skimpy file.csv\n",
    "```"
   ]
  }
 ],
 "metadata": {
  "kernelspec": {
   "display_name": "Python 3.8.8 ('.venv': poetry)",
   "language": "python",
   "name": "python3"
  },
  "language_info": {
   "codemirror_mode": {
    "name": "ipython",
    "version": 3
   },
   "file_extension": ".py",
   "mimetype": "text/x-python",
   "name": "python",
   "nbconvert_exporter": "python",
   "pygments_lexer": "ipython3",
   "version": "3.10.12"
  },
  "vscode": {
   "interpreter": {
    "hash": "40632773287a790210327f0a4164f429b4430d796dff9694a1110ee4b5468ac6"
   }
  }
 },
 "nbformat": 4,
 "nbformat_minor": 4
}
